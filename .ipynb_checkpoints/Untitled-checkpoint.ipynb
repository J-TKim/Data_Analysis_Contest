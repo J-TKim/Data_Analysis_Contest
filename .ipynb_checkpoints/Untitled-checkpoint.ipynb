{
 "cells": [
  {
   "cell_type": "code",
   "execution_count": 1,
   "metadata": {},
   "outputs": [],
   "source": [
    "%matplotlib inline\n",
    "\n",
    "import pathlib\n",
    "\n",
    "import os\n",
    "import matplotlib.pyplot as plt\n",
    "import numpy as np\n",
    "\n",
    "from keras.preprocessing.image import ImageDataGenerator\n",
    "from keras.preprocessing import image\n",
    "from tensorflow.keras.layers import Activation, BatchNormalization, Dense, Dropout, Flatten, Reshape, LeakyReLU, Conv2D, Conv2DTranspose\n",
    "from tensorflow.keras.models import Sequential\n",
    "from tensorflow.keras.optimizers import Adam\n",
    "import tensorflow as tf\n",
    "\n",
    "from dataloader import DataLoader"
   ]
  },
  {
   "cell_type": "code",
   "execution_count": 2,
   "metadata": {},
   "outputs": [],
   "source": [
    "img_dir = \"../datasets/1/\""
   ]
  },
  {
   "cell_type": "code",
   "execution_count": 3,
   "metadata": {},
   "outputs": [
    {
     "data": {
      "text/plain": [
       "10835"
      ]
     },
     "execution_count": 3,
     "metadata": {},
     "output_type": "execute_result"
    }
   ],
   "source": [
    "train_dataset_lst = [\n",
    "  {\n",
    "    'file_name': img_dir +i,\n",
    "    'height': 64, 'width': 64,\n",
    "    } for i in os.listdir(img_dir)]\n",
    "\n",
    "len(train_dataset_lst)"
   ]
  },
  {
   "cell_type": "code",
   "execution_count": 4,
   "metadata": {},
   "outputs": [],
   "source": [
    "X_train = train_dataset_lst"
   ]
  },
  {
   "cell_type": "code",
   "execution_count": 8,
   "metadata": {},
   "outputs": [],
   "source": [
    "size = (64, 64)"
   ]
  },
  {
   "cell_type": "code",
   "execution_count": 6,
   "metadata": {},
   "outputs": [
    {
     "data": {
      "image/png": "[encoded data removed]",
      "text/plain": [
       "<Figure size 432x288 with 1 Axes>"
      ]
     },
     "metadata": {
      "needs_background": "light"
     },
     "output_type": "display_data"
    }
   ],
   "source": [
    "img_data = image.load_img(img_dir + os.listdir(img_dir)[6], target_size=size)\n",
    "plt.imshow(img_data)\n",
    "plt.show()"
   ]
  },
  {
   "cell_type": "code",
   "execution_count": 9,
   "metadata": {},
   "outputs": [],
   "source": [
    "img_rows = 64\n",
    "img_cols = 64\n",
    "channels = 3\n",
    "img_shape = (img_rows, img_cols, channels) # 입력 이미지 차원\n",
    "z_dim = 1000 # 생성자의 입력으로 사용할 잡음 벡터의 크기"
   ]
  },
  {
   "cell_type": "code",
   "execution_count": 10,
   "metadata": {},
   "outputs": [],
   "source": [
    "# 코드 4-3 DCGAN 생성자\n",
    "def build_generator(z_dim):\n",
    "    \n",
    "    model = Sequential()\n",
    "    \n",
    "    model.add(Dense(512 * 8 * 8, input_dim=z_dim)) # 완전 연결 층을 사용해 입력을 8 x 8 x 512 크기 텐서로 바꾼다.\n",
    "    model.add(Reshape((8, 8 ,512)))\n",
    "    \n",
    "    # 7 x 7 x 256에서 14 x 14 x 128 크기의 텐서로 바꾸는 전치 합성급 층\n",
    "    model.add(Conv2DTranspose(256, kernel_size=3, strides=1, padding=\"same\"))\n",
    "    \n",
    "    model.add(BatchNormalization()) # 배치 정규화\n",
    "    \n",
    "    model.add(LeakyReLU(alpha=0.01)) # LeakyReLU 활성화 함수\n",
    "    \n",
    "    \n",
    "    # 7 x 7 x 256에서 14 x 14 x 128 크기의 텐서로 바꾸는 전치 합성급 층\n",
    "    model.add(Conv2DTranspose(128, kernel_size=3, strides=2, padding=\"same\"))\n",
    "    \n",
    "    model.add(BatchNormalization()) # 배치 정규화\n",
    "    \n",
    "    model.add(LeakyReLU(alpha=0.01)) # LeakyReLU 활성화 함수\n",
    "    \n",
    "    # 14 x 14 x 128에서 14 x 14 x 64 크기의 텐서로 바꾸는 전치 합성곱 층\n",
    "    model.add(Conv2DTranspose(64, kernel_size=3, strides=1, padding=\"same\"))\n",
    "    \n",
    "    model.add(BatchNormalization()) # 배치 정규화\n",
    "    \n",
    "    model.add(LeakyReLU(alpha=0.01)) # LeakyReLU 활성화 함수\n",
    "    \n",
    "    # 14 x 14 x 128에서 14 x 14 x 64 크기의 텐서로 바꾸는 전치 합성곱 층\n",
    "    model.add(Conv2DTranspose(128, kernel_size=3, strides=2, padding=\"same\"))\n",
    "    \n",
    "    model.add(BatchNormalization()) # 배치 정규화\n",
    "    \n",
    "    model.add(LeakyReLU(alpha=0.01)) # LeakyReLU 활성화 함수\n",
    "    \n",
    "    # 14 x 14 x 64에서 64 X 64 x 3 크기 텐서로 바꾸는 전치 활성화 층\n",
    "    model.add(Conv2DTranspose(3, kernel_size=3, strides=2, padding=\"same\"))\n",
    "    \n",
    "    model.add(Activation(\"tanh\")) # tanh 활성화 함수를 사용하는 출력층\n",
    "    \n",
    "    return model"
   ]
  },
  {
   "cell_type": "code",
   "execution_count": 11,
   "metadata": {},
   "outputs": [
    {
     "name": "stdout",
     "output_type": "stream",
     "text": [
      "Model: \"sequential\"\n",
      "_________________________________________________________________\n",
      "Layer (type)                 Output Shape              Param #   \n",
      "=================================================================\n",
      "dense (Dense)                (None, 32768)             62291968  \n",
      "_________________________________________________________________\n",
      "reshape (Reshape)            (None, 8, 8, 512)         0         \n",
      "_________________________________________________________________\n",
      "conv2d_transpose (Conv2DTran (None, 8, 8, 256)         1179904   \n",
      "_________________________________________________________________\n",
      "batch_normalization (BatchNo (None, 8, 8, 256)         1024      \n",
      "_________________________________________________________________\n",
      "leaky_re_lu (LeakyReLU)      (None, 8, 8, 256)         0         \n",
      "_________________________________________________________________\n",
      "conv2d_transpose_1 (Conv2DTr (None, 16, 16, 128)       295040    \n",
      "_________________________________________________________________\n",
      "batch_normalization_1 (Batch (None, 16, 16, 128)       512       \n",
      "_________________________________________________________________\n",
      "leaky_re_lu_1 (LeakyReLU)    (None, 16, 16, 128)       0         \n",
      "_________________________________________________________________\n",
      "conv2d_transpose_2 (Conv2DTr (None, 16, 16, 64)        73792     \n",
      "_________________________________________________________________\n",
      "batch_normalization_2 (Batch (None, 16, 16, 64)        256       \n",
      "_________________________________________________________________\n",
      "leaky_re_lu_2 (LeakyReLU)    (None, 16, 16, 64)        0         \n",
      "_________________________________________________________________\n",
      "conv2d_transpose_3 (Conv2DTr (None, 32, 32, 128)       73856     \n",
      "_________________________________________________________________\n",
      "batch_normalization_3 (Batch (None, 32, 32, 128)       512       \n",
      "_________________________________________________________________\n",
      "leaky_re_lu_3 (LeakyReLU)    (None, 32, 32, 128)       0         \n",
      "_________________________________________________________________\n",
      "conv2d_transpose_4 (Conv2DTr (None, 64, 64, 3)         3459      \n",
      "_________________________________________________________________\n",
      "activation (Activation)      (None, 64, 64, 3)         0         \n",
      "=================================================================\n",
      "Total params: 63,920,323\n",
      "Trainable params: 63,919,171\n",
      "Non-trainable params: 1,152\n",
      "_________________________________________________________________\n"
     ]
    }
   ],
   "source": [
    "model = build_generator(z_dim = 1900)\n",
    "model.summary()"
   ]
  },
  {
   "cell_type": "code",
   "execution_count": 12,
   "metadata": {},
   "outputs": [],
   "source": [
    "def build_discriminator(z_dim):\n",
    "    model = Sequential()\n",
    "\n",
    "    # 64 x 64 x 3 텐서에서 32 x 32 x 16 크기 텐서로 바꾸는 합성곱 층\n",
    "    model.add(\n",
    "        Conv2D(16,\n",
    "              kernel_size=3,\n",
    "              strides=2,\n",
    "              input_shape=img_shape,\n",
    "              padding=\"same\"))    \n",
    "\n",
    "    # 32 x 32 x 16 텐서에서 16 x 16 x 32 크기 텐서로 바꾸는 합성곱 층\n",
    "    model.add(\n",
    "        Conv2D(32,\n",
    "              kernel_size=3,\n",
    "              strides=2,\n",
    "              input_shape=img_shape,\n",
    "              padding=\"same\"))\n",
    "    \n",
    "    model.add(LeakyReLU(alpha=0.01)) # LeakYReLU 활성화 함수\n",
    "    \n",
    "    # 16 x 16 x 32 텐서에서 8 x 8 x 64 크기 텐서로 바꾸는 합성곱 층\n",
    "    model.add(\n",
    "        Conv2D(64,\n",
    "              kernel_size=3,\n",
    "              strides=2,\n",
    "              padding=\"same\"))\n",
    "    \n",
    "    model.add(LeakyReLU(alpha=0.01)) # LeakyReLU 활성화 함수\n",
    "    \n",
    "    # 8 x 8 x 64 텐서에서 4 x 4 x 128 텐서로 바꾸는 합성곱 층\n",
    "    model.add(\n",
    "        Conv2D(128,\n",
    "              kernel_size=3,\n",
    "              strides=2,\n",
    "              padding=\"same\"))\n",
    "    \n",
    "    model.add(LeakyReLU(alpha=0.01)) # LeakyReLU 활성화 함수\n",
    "    \n",
    "    model.add(Flatten()) \n",
    "    model.add(Dense(1, activation=\"sigmoid\")) # 시그모이드 활성화 함수를 사용하는 출력층\n",
    "    \n",
    "    return model"
   ]
  },
  {
   "cell_type": "code",
   "execution_count": 13,
   "metadata": {},
   "outputs": [
    {
     "name": "stdout",
     "output_type": "stream",
     "text": [
      "Model: \"sequential_1\"\n",
      "_________________________________________________________________\n",
      "Layer (type)                 Output Shape              Param #   \n",
      "=================================================================\n",
      "conv2d (Conv2D)              (None, 32, 32, 16)        448       \n",
      "_________________________________________________________________\n",
      "conv2d_1 (Conv2D)            (None, 16, 16, 32)        4640      \n",
      "_________________________________________________________________\n",
      "leaky_re_lu_4 (LeakyReLU)    (None, 16, 16, 32)        0         \n",
      "_________________________________________________________________\n",
      "conv2d_2 (Conv2D)            (None, 8, 8, 64)          18496     \n",
      "_________________________________________________________________\n",
      "leaky_re_lu_5 (LeakyReLU)    (None, 8, 8, 64)          0         \n",
      "_________________________________________________________________\n",
      "conv2d_3 (Conv2D)            (None, 4, 4, 128)         73856     \n",
      "_________________________________________________________________\n",
      "leaky_re_lu_6 (LeakyReLU)    (None, 4, 4, 128)         0         \n",
      "_________________________________________________________________\n",
      "flatten (Flatten)            (None, 2048)              0         \n",
      "_________________________________________________________________\n",
      "dense_1 (Dense)              (None, 1)                 2049      \n",
      "=================================================================\n",
      "Total params: 99,489\n",
      "Trainable params: 99,489\n",
      "Non-trainable params: 0\n",
      "_________________________________________________________________\n"
     ]
    }
   ],
   "source": [
    "model = build_discriminator(1000)\n",
    "model.summary()"
   ]
  },
  {
   "cell_type": "code",
   "execution_count": 14,
   "metadata": {},
   "outputs": [],
   "source": [
    "def build_gan(generator, discriminator):\n",
    "    \n",
    "    model = Sequential()\n",
    "    \n",
    "    # 생성자 + 판별자 모델 연결\n",
    "    model.add(generator)\n",
    "    model.add(discriminator)\n",
    "    \n",
    "    return model"
   ]
  },
  {
   "cell_type": "code",
   "execution_count": 15,
   "metadata": {},
   "outputs": [],
   "source": [
    "discriminator = build_discriminator(img_shape) # 판별자 모델 생성\n",
    "discriminator.compile(loss=\"binary_crossentropy\",\n",
    "                         optimizer=Adam(),\n",
    "                         metrics=[\"acc\"])\n",
    "    \n",
    "generator = build_generator(z_dim) # 생성자 모델 생성\n",
    "    \n",
    "discriminator.trainable = False\n",
    "    \n",
    "gan = build_gan(generator, discriminator)\n",
    "gan.compile(loss=\"binary_crossentropy\", optimizer=Adam())"
   ]
  },
  {
   "cell_type": "code",
   "execution_count": 16,
   "metadata": {},
   "outputs": [],
   "source": [
    "losses = []\n",
    "accuracies = []\n",
    "iteration_checkpoints = []\n",
    "\n",
    "def train(iterations, batch_size, sample_interval):\n",
    "    (X_train, _), (_, _) = mnist.load_data() # MNIST 데이터셋 로드\n",
    "    \n",
    "    X_train = X_train / 127.5 - 1.0 # [0. 255] 흑백 픽셀 값을 [-1, 1]으로 스케일 조정\n",
    "    X_train = np.expand_dims(X_train, axis=3)\n",
    "    \n",
    "    real = np.ones((batch_size, 1)) # 진짜 이미지의 레이블 모두 1\n",
    "    \n",
    "    fake = np.zeros((batch_size, 1)) # 가짜 이미지의 레이블 모두 0\n",
    "    \n",
    "    for iteration in range(iterations):\n",
    "        \n",
    "        idx = np.random.randint(0, X_train.shape[0], batch_size) # 진짜 이미지의 랜덤 배치 얻기\n",
    "        imgs = X_train[idx]\n",
    "        \n",
    "        z = np.random.normal(0, 1, (batch_size, 100)) # 가짜 이미지 배치 만들기\n",
    "        gen_imgs = generator.predict(z)\n",
    "        \n",
    "        d_loss_real = discriminator.train_on_batch(imgs, real) # 판별자 훈련하기\n",
    "        d_loss_fake = discriminator.train_on_batch(gen_imgs, fake)\n",
    "        d_loss, acc = 0.5 * np.add(d_loss_real, d_loss_fake)\n",
    "        \n",
    "        z = np.random.normal(0, 1, (batch_size, 100)) # 가짜 이미지 배치 만들기\n",
    "        gen_imgs = generator.predict(z)\n",
    "        \n",
    "        g_loss = gan.train_on_batch(z, real) # 생성자 훈련하기\n",
    "        \n",
    "        if (iteration + 1) % sample_interval == 0:\n",
    "            \n",
    "            # 훈련이 끝난 후에 그래프로 그리이 위해 손실과 정확도를 저장하기\n",
    "            losses.append((d_loss, g_loss))\n",
    "            accuracies.append(100 * acc)\n",
    "            iteration_checkpoints.append(iteration + 1)\n",
    "            \n",
    "            # 훈련 진행 과정 출력\n",
    "            print(\"%d [D 손실: %f, 정확도: %.2f%%] [g 손실: %f]\" %\n",
    "                 (iteration + 1, d_loss, 100 * acc, g_loss))\n",
    "            \n",
    "            sample_images(generator) # 생성된 이미지 샘플 출력"
   ]
  },
  {
   "cell_type": "code",
   "execution_count": 17,
   "metadata": {},
   "outputs": [],
   "source": [
    "losses = []\n",
    "accuracies = []\n",
    "iteration_checkpoints = []\n",
    "\n",
    "def train(iterations, batch_size, sample_interval):\n",
    "    \n",
    "    real = np.ones((batch_size, 1)) # 진짜 이미지의 레이블 모두 1\n",
    "    \n",
    "    fake = np.zeros((batch_size, 1)) # 가짜 이미지의 레이블 모두 0\n",
    "    \n",
    "    for batch_i, imgs_A in enumerate(data_loader.load_batch(64)):\n",
    "        \n",
    "        idx = np.random.randint(0, imgs_A.shape[0], batch_size) # 진짜 이미지의 랜덤 배치 얻기\n",
    "        imgs = imgs_A\n",
    "        \n",
    "        z = np.random.normal(0, 1, (batch_size, 100)) # 가짜 이미지 배치 만들기\n",
    "        gen_imgs = generator.predict(z)\n",
    "        \n",
    "        d_loss_real = discriminator.train_on_batch(imgs, real) # 판별자 훈련하기\n",
    "        d_loss_fake = discriminator.train_on_batch(gen_imgs, fake)\n",
    "        d_loss, acc = 0.5 * np.add(d_loss_real, d_loss_fake)\n",
    "        \n",
    "        z = np.random.normal(0, 1, (batch_size, 100)) # 가짜 이미지 배치 만들기\n",
    "        gen_imgs = generator.predict(z)\n",
    "        \n",
    "        g_loss = gan.train_on_batch(z, real) # 생성자 훈련하기\n",
    "        \n",
    "        if (iteration + 1) % sample_interval == 0:\n",
    "            \n",
    "            # 훈련이 끝난 후에 그래프로 그리이 위해 손실과 정확도를 저장하기\n",
    "            losses.append((d_loss, g_loss))\n",
    "            accuracies.append(100 * acc)\n",
    "            iteration_checkpoints.append(iteration + 1)\n",
    "            \n",
    "            # 훈련 진행 과정 출력\n",
    "            print(\"%d [D 손실: %f, 정확도: %.2f%%] [g 손실: %f]\" %\n",
    "                 (iteration + 1, d_loss, 100 * acc, g_loss))\n",
    "            \n",
    "            sample_images(generator) # 생성된 이미지 샘플 출력"
   ]
  },
  {
   "cell_type": "code",
   "execution_count": 18,
   "metadata": {},
   "outputs": [],
   "source": [
    "def sample_images(generator, image_grid_rows=4, image_grid_columns=4):\n",
    "\n",
    "    z = np.random.normal(0, 1, (image_grid_rows * image_grid_columns, z_dim)) # 랜덤한 잡음 샘플링\n",
    "\n",
    "    gen_imgs = generator.predict(z) # 랜덤한 잡음에서 이미지 생성하기\n",
    "\n",
    "    gen_imgs = 0.5 * gen_imgs + 0.5 # 이미지 픽셀 값을 [0, 1] 사이로 스케일 조정\n",
    "\n",
    "    # 이미지 그리드 설정\n",
    "    fig, axs = plt.subplots(image_grid_rows,\n",
    "                            image_grid_columns,\n",
    "                            figsize=(4, 4),\n",
    "                            sharey=True,\n",
    "                            sharex=True)\n",
    "\n",
    "    cnt = 0\n",
    "    for i in range(image_grid_rows):\n",
    "        for j in range(image_grid_columns):\n",
    "            # 이미지 그리드 출력\n",
    "            axs[i, j].imshow(gen_imgs[cnt, :, :, 0]) #, cmap='gray')\n",
    "            axs[i, j].axis('off')\n",
    "            cnt += 1\n",
    "    plt.show()"
   ]
  },
  {
   "cell_type": "code",
   "execution_count": 19,
   "metadata": {},
   "outputs": [],
   "source": [
    "# 하이퍼파라미터 설정\n",
    "iterations = 20000\n",
    "batch_size = 64\n",
    "sample_interval = 5000\n",
    "\n",
    "train(iterations, batch_size, sample_interval)"
   ]
  },
  {
   "cell_type": "code",
   "execution_count": null,
   "metadata": {},
   "outputs": [],
   "source": []
  },
  {
   "cell_type": "code",
   "execution_count": null,
   "metadata": {},
   "outputs": [],
   "source": []
  },
  {
   "cell_type": "code",
   "execution_count": null,
   "metadata": {},
   "outputs": [],
   "source": []
  }
 ],
 "metadata": {
  "kernelspec": {
   "display_name": "GAN",
   "language": "python",
   "name": "gan"
  },
  "language_info": {
   "codemirror_mode": {
    "name": "ipython",
    "version": 3
   },
   "file_extension": ".py",
   "mimetype": "text/x-python",
   "name": "python",
   "nbconvert_exporter": "python",
   "pygments_lexer": "ipython3",
   "version": "3.7.5"
  }
 },
 "nbformat": 4,
 "nbformat_minor": 4
}
